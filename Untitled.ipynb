{
 "cells": [
  {
   "cell_type": "code",
   "execution_count": null,
   "id": "0847aae1-90fa-42ef-af6e-be57b50dba8b",
   "metadata": {},
   "outputs": [],
   "source": [
    "def decimal_to_binary(decimal_number):\n",
    "    binary_number = \"\" #use a string to avoid reversing the sequence\n",
    "    \n",
    "    if decimal_number == 0:\n",
    "        return \"0\"\n",
    "\n",
    "    while decimal_number > 0:\n",
    "        remainder = decimal_number % 2  \n",
    "        binary_number = str(remainder) + binary_number  \n",
    "        decimal_number //= 2  \n",
    "\n",
    "    return binary_number\n",
    "\n",
    "\n",
    "decimal = int(input(\"Enter a decimal number for conversion: \"))\n",
    "binary = decimal_to_binary(decimal)\n",
    "print(f\"The converted binary number is: {binary}\")"
   ]
  },
  {
   "cell_type": "code",
   "execution_count": null,
   "id": "ac61bad1-c51a-47e5-b9ef-13cce224d617",
   "metadata": {},
   "outputs": [],
   "source": [
    "562\n"
   ]
  }
 ],
 "metadata": {
  "kernelspec": {
   "display_name": "Python 3 (ipykernel)",
   "language": "python",
   "name": "python3"
  },
  "language_info": {
   "name": ""
  }
 },
 "nbformat": 4,
 "nbformat_minor": 5
}
