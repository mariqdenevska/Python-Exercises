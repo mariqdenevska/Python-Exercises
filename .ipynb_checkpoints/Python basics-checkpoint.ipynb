{
 "cells": [
  {
   "cell_type": "markdown",
   "metadata": {},
   "source": [
    "<h3><b>(T.1) Test the environment </b></h3>\n",
    "<p>Print Hello world on the screen </p>"
   ]
  },
  {
   "cell_type": "code",
   "execution_count": null,
   "metadata": {},
   "outputs": [
    {
     "name": "stdout",
     "output_type": "stream",
     "text": [
      "Hello world\n"
     ]
    }
   ],
   "source": [
    "greetings = 'Hello world'\n",
    "print(greetings)"
   ]
  },
  {
   "cell_type": "markdown",
   "metadata": {},
   "source": [
    "<h3><b>(T.2) Swap the values of 2 variables </b></h3>\n",
    "<p>\n",
    "Declare 2 variables a and b. a=10, b=20 </br>\n",
    "Swap the values between the 2 variables and print them on the screen. Try not using the pythonic way, but rather use a third variable to perform the swap</br>\n",
    "Result:\n",
    "a = 20\n",
    "b = 10\n",
    "</p>"
   ]
  },
  {
   "cell_type": "code",
   "execution_count": null,
   "metadata": {},
   "outputs": [
    {
     "name": "stdout",
     "output_type": "stream",
     "text": [
      "a=20  b=10\n"
     ]
    }
   ],
   "source": [
    "a, b, c= 10, 20, 0\n",
    "\n",
    "c=a\n",
    "a=b\n",
    "b=c\n",
    "\n",
    "print(f\"a={a}  b={b}\")"
   ]
  },
  {
   "cell_type": "markdown",
   "metadata": {},
   "source": [
    "<h3><b>(T.3) Odd or even</b></h3>\n",
    "<p>\n",
    "Write a program to check if a number is odd or even. Use input() to enter the number.\n",
    "</p>"
   ]
  },
  {
   "cell_type": "code",
   "execution_count": null,
   "metadata": {},
   "outputs": [
    {
     "name": "stdout",
     "output_type": "stream",
     "text": [
      "The entered number 12 is even\n"
     ]
    }
   ],
   "source": [
    "number = int(input(\"Enter a number: \"))\n",
    "if number % 2 == 0:\n",
    "    print(f\"The entered number {number} is even\")\n",
    "\n",
    "else:\n",
    "    print(f\"The entered number {number} is odd\")\n",
    "\n"
   ]
  },
  {
   "cell_type": "markdown",
   "metadata": {},
   "source": [
    "<h3><b>(T.4) Calculate exam grade</b></h3>\n",
    "<p>\n",
    "Create a program that gets number of points as input (between 0-100) and calculates the grade of a student. </br>\n",
    "Scoring is as below. Can you do this using a dictionary?\n",
    "<table>\n",
    "<tr><td>Grade</td><td>Points</td></tr>\n",
    "<tr><td>A</td><td>90</td></tr>\n",
    "<tr><td>B</td><td>between 80 and 89</td></tr>\n",
    "<tr><td>C</td><td>between 70 and 79</td></tr>\n",
    "<tr><td>D</td><td>between 60 an 69</td></tr>\n",
    "<tr><td>F</td><td>below 60</td></tr>\n",
    "</table>\n",
    "</p>"
   ]
  },
  {
   "cell_type": "code",
   "execution_count": null,
   "metadata": {},
   "outputs": [
    {
     "ename": "ValueError",
     "evalue": "invalid literal for int() with base 10: 'hard'",
     "output_type": "error",
     "traceback": [
      "\u001b[1;31m---------------------------------------------------------------------------\u001b[0m",
      "\u001b[1;31mValueError\u001b[0m                                Traceback (most recent call last)",
      "Cell \u001b[1;32mIn[4], line 9\u001b[0m\n\u001b[0;32m      1\u001b[0m grade_dict \u001b[38;5;241m=\u001b[39m {\n\u001b[0;32m      2\u001b[0m         (\u001b[38;5;241m90\u001b[39m, \u001b[38;5;241m100\u001b[39m): \u001b[38;5;124m'\u001b[39m\u001b[38;5;124mA\u001b[39m\u001b[38;5;124m'\u001b[39m,\n\u001b[0;32m      3\u001b[0m         (\u001b[38;5;241m80\u001b[39m, \u001b[38;5;241m89\u001b[39m): \u001b[38;5;124m'\u001b[39m\u001b[38;5;124mB\u001b[39m\u001b[38;5;124m'\u001b[39m,\n\u001b[1;32m   (...)\u001b[0m\n\u001b[0;32m      6\u001b[0m         (\u001b[38;5;241m0\u001b[39m, \u001b[38;5;241m59\u001b[39m): \u001b[38;5;124m'\u001b[39m\u001b[38;5;124mF\u001b[39m\u001b[38;5;124m'\u001b[39m\n\u001b[0;32m      7\u001b[0m     }\n\u001b[1;32m----> 9\u001b[0m points \u001b[38;5;241m=\u001b[39m \u001b[38;5;28;43mint\u001b[39;49m\u001b[43m(\u001b[49m\u001b[38;5;28;43minput\u001b[39;49m\u001b[43m(\u001b[49m\u001b[38;5;124;43mf\u001b[39;49m\u001b[38;5;124;43m\"\u001b[39;49m\u001b[38;5;124;43mInput number of points between 0 and 100: \u001b[39;49m\u001b[38;5;124;43m\"\u001b[39;49m\u001b[43m)\u001b[49m\u001b[43m)\u001b[49m\n\u001b[0;32m     11\u001b[0m \u001b[38;5;28;01mwhile\u001b[39;00m points\u001b[38;5;241m<\u001b[39m\u001b[38;5;241m=\u001b[39m\u001b[38;5;241m0\u001b[39m \u001b[38;5;129;01mor\u001b[39;00m points\u001b[38;5;241m>\u001b[39m\u001b[38;5;241m100\u001b[39m:\n\u001b[0;32m     12\u001b[0m     points \u001b[38;5;241m=\u001b[39m \u001b[38;5;28mint\u001b[39m(\u001b[38;5;28minput\u001b[39m(\u001b[38;5;124mf\u001b[39m\u001b[38;5;124m\"\u001b[39m\u001b[38;5;124mEnter a valid number of points between 0 and 100: \u001b[39m\u001b[38;5;124m\"\u001b[39m))\n",
      "\u001b[1;31mValueError\u001b[0m: invalid literal for int() with base 10: 'hard'"
     ]
    }
   ],
   "source": [
    "grade_dict = {\n",
    "        (90, 100): 'A',\n",
    "        (80, 89): 'B',\n",
    "        (70, 79): 'C',\n",
    "        (60, 69): 'D',\n",
    "        (0, 59): 'F'\n",
    "    }\n",
    "\n",
    "points = int(input(f\"Input number of points between 0 and 100: \"))\n",
    "\n",
    "while points<=0 or points>100:\n",
    "    points = int(input(f\"Enter a valid number of points between 0 and 100: \"))\n",
    "\n",
    "for points_range,grade in grade_dict.items():\n",
    "    if points_range[0] <= points <=points_range[1]:\n",
    "        print(f\"The grade is {grade}\")"
   ]
  },
  {
   "cell_type": "markdown",
   "metadata": {},
   "source": [
    "<h3><b>(T.5)  Sum n numbers</b></h3>\n",
    "<p>\n",
    "Calculate the sum of the first n numbers starting from 0.\n",
    "Allow user input for n <= 100\n",
    "</p>"
   ]
  },
  {
   "cell_type": "code",
   "execution_count": null,
   "metadata": {},
   "outputs": [
    {
     "ename": "TypeError",
     "evalue": "'tuple' object is not callable",
     "output_type": "error",
     "traceback": [
      "\u001b[1;31m---------------------------------------------------------------------------\u001b[0m",
      "\u001b[1;31mTypeError\u001b[0m                                 Traceback (most recent call last)",
      "Cell \u001b[1;32mIn[14], line 9\u001b[0m\n\u001b[0;32m      5\u001b[0m \u001b[38;5;28;01mwhile\u001b[39;00m n_number \u001b[38;5;241m<\u001b[39m\u001b[38;5;241m=\u001b[39m \u001b[38;5;241m0\u001b[39m \u001b[38;5;129;01mor\u001b[39;00m n_number \u001b[38;5;241m>\u001b[39m \u001b[38;5;241m100\u001b[39m:\n\u001b[0;32m      6\u001b[0m     n_number \u001b[38;5;241m=\u001b[39m \u001b[38;5;28mint\u001b[39m(\u001b[38;5;28minput\u001b[39m(\u001b[38;5;124mf\u001b[39m\u001b[38;5;124m\"\u001b[39m\u001b[38;5;124mEnter a valid number between 0 and 100: \u001b[39m\u001b[38;5;124m\"\u001b[39m))\n\u001b[1;32m----> 9\u001b[0m \u001b[38;5;28;01mfor\u001b[39;00m i \u001b[38;5;129;01min\u001b[39;00m \u001b[38;5;28;43mrange\u001b[39;49m\u001b[43m(\u001b[49m\u001b[38;5;241;43m0\u001b[39;49m\u001b[43m,\u001b[49m\u001b[43m \u001b[49m\u001b[43mn_number\u001b[49m\u001b[43m)\u001b[49m:  \n\u001b[0;32m     10\u001b[0m     calc_sum \u001b[38;5;241m+\u001b[39m\u001b[38;5;241m=\u001b[39m i\n\u001b[0;32m     12\u001b[0m \u001b[38;5;28mprint\u001b[39m(calc_sum)\n",
      "\u001b[1;31mTypeError\u001b[0m: 'tuple' object is not callable"
     ]
    }
   ],
   "source": [
    "#If you put the code in a separate file it works\n",
    "n_number = int(input(\"Enter a number between 0 and 100: \"))\n",
    "calc_sum = 0  \n",
    "\n",
    "\n",
    "while n_number <= 0 or n_number > 100:\n",
    "    n_number = int(input(f\"Enter a valid number between 0 and 100: \"))\n",
    "\n",
    "\n",
    "for i in range(0, n_number):  \n",
    "    calc_sum += i\n",
    "\n",
    "print(calc_sum)"
   ]
  },
  {
   "cell_type": "markdown",
   "metadata": {},
   "source": [
    "<h3><b>(T.6) Max value in a list</b></h3>\n",
    "<p>\n",
    "Write a program to find the max value in a list </br>\n",
    "You can't use the max() function or any other built in function.\n",
    "\n",
    "Example list:\n",
    "[10, 15, 7, 255, 13, 103]\n",
    "</p>"
   ]
  },
  {
   "cell_type": "code",
   "execution_count": null,
   "metadata": {},
   "outputs": [],
   "source": [
    "list=[10, 15, 7, 255, 13, 103]\n",
    "max_value=max(list)\n",
    "print(f\"Max value is {max_value}\")"
   ]
  },
  {
   "cell_type": "markdown",
   "metadata": {},
   "source": [
    "<h3><b>(T.7) Calculate sum of digits</b></h3>\n",
    "<p>\n",
    "Given a number N calculate the sum of all digits of N\n",
    "\n",
    "Example:\n",
    "N = 4325 </br>\n",
    "sum = 4 + 3 + 2 + 5 </br>\n",
    "sum = 14\n",
    "</p>"
   ]
  },
  {
   "cell_type": "code",
   "execution_count": null,
   "metadata": {},
   "outputs": [
    {
     "name": "stdout",
     "output_type": "stream",
     "text": [
      "sum = 14\n"
     ]
    }
   ],
   "source": [
    "number_n = int(input(\"Enter a number: \"))\n",
    "digits = str(number_n)\n",
    "total_sum = 0\n",
    "\n",
    "for digit in digits:\n",
    "    total_sum += int(digit)\n",
    "\n",
    "print(f\"sum = {total_sum}\")\n"
   ]
  },
  {
   "cell_type": "markdown",
   "metadata": {},
   "source": [
    "<h3><b>(T.8) Number guessing game</b></h3>\n",
    "<p>\n",
    "Create a number guessing game where the player needs to guess a number between 1 and 100 (should be randomly generated). </br>\n",
    "Every time a player is prompted to take a guess and after each try they should get a response if their number is higher or lower than the generated number</br></br>\n",
    "Example:</br>\n",
    "Try to guess a number between 1 and 100 </br>\n",
    "The number is greater than 50 </br>\n",
    "The number is greater than 60 </br> \n",
    "The number is greater than 70 </br>\n",
    "The number is greater than 80 </br>\n",
    "The number is less than 90 </br>\n",
    "The number is greater than 85 </br>\n",
    "Correct! Number is 87\n",
    "\n",
    "</p>\n"
   ]
  },
  {
   "cell_type": "code",
   "execution_count": null,
   "metadata": {},
   "outputs": [
    {
     "name": "stdout",
     "output_type": "stream",
     "text": [
      "Try to guess a number between 1 and 100!\n",
      "The number is greater than 50\n",
      "The number is greater than 60\n",
      "The number is greater than 70\n",
      "The number is greater than 80\n",
      "The number is greater than 90\n",
      "The number is greater than 90\n",
      "The number is greater than 95\n",
      "The number is less than 99\n",
      "The number is less than 98\n",
      "Correct! The number is 97.\n"
     ]
    }
   ],
   "source": [
    "import random\n",
    "\n",
    "random_number = random.randint(1, 100)\n",
    "\n",
    "print(\"Try to guess a number between 1 and 100!\")\n",
    "\n",
    "while True:\n",
    "    user_guess = int(input(\"Enter your guess: \"))\n",
    "\n",
    "    if user_guess < random_number:\n",
    "        print(\"The number is greater than\", user_guess)\n",
    "    elif user_guess > random_number:\n",
    "        print(\"The number is less than\", user_guess)\n",
    "    else:\n",
    "        print(f\"Correct! The number is {random_number}.\")\n",
    "        break  \n",
    "\n",
    "    "
   ]
  },
  {
   "cell_type": "markdown",
   "metadata": {},
   "source": [
    "<h3><b>(T.9) Factorials</b></h3>\n",
    "<h3><b>Note: Starting from this task it is mandatory that all remaining problems are completed using functions.</b></h3>\n",
    "<p>\n",
    "Create a factorial function that returns the factorial of a numbers. The function should accept only positive integers. </br>\n",
    "The factorial of a number is the sum of the multiplication, of all the whole numbers, from our specified number down to 1. </br>\n",
    "Example: </br>\n",
    "The factorial of 6 would be 6 x 5 x 4 x 3 x 2 x 1 = 720\n",
    "\n",
    "</p>\n"
   ]
  },
  {
   "cell_type": "code",
   "execution_count": null,
   "metadata": {},
   "outputs": [],
   "source": [
    "def factorial_func (factor_num):\n",
    "     if factor_num == 0 or factor_num == 1:\n",
    "        return 1\n",
    "     else:\n",
    "        return factor_num * factorial_func(factor_num - 1)\n",
    "\n",
    "num_input=int(input(f\"Enter a positive integer: \"))\n",
    "while num_input <0:\n",
    "    num_input = int(input(f\"Enter a positive integer: \")) \n",
    "\n",
    "print(factorial_func(num_input))\n"
   ]
  },
  {
   "cell_type": "markdown",
   "metadata": {},
   "source": [
    "<h3><b>(T.10) Number of occurencies </b></h3>\n",
    "<p>\n",
    "Create a function that counts how many times certain characters appeared in a word. </br>\n",
    "Return a data structure that stores all results. </br>\n",
    "\n",
    "Example: </br>\n",
    "ADASTRA </br>\n",
    "A -> 3 </br>\n",
    "D -> 1 </br>\n",
    "S -> 1 </br>\n",
    "T -> 1 </br>\n",
    "R -> 1\n",
    "\n",
    "</p>\n"
   ]
  },
  {
   "cell_type": "code",
   "execution_count": null,
   "metadata": {},
   "outputs": [
    {
     "name": "stdout",
     "output_type": "stream",
     "text": [
      "A -> 3\n",
      "D -> 1\n",
      "S -> 1\n",
      "T -> 1\n",
      "R -> 1\n"
     ]
    }
   ],
   "source": [
    "def occurce (word_input):\n",
    "    total={}\n",
    "    for char in word_input:\n",
    "        if char in total:\n",
    "            total[char]+=1\n",
    "        else:\n",
    "            total[char]=1\n",
    "    return total\n",
    "\n",
    "word = input(\"Enter a word: \")\n",
    "result=occurce(word)\n",
    "\n",
    "for character,count in result.items():\n",
    "    print(f\"{character} -> {count}\")"
   ]
  },
  {
   "cell_type": "markdown",
   "metadata": {},
   "source": [
    "<h3><b>(T.11) Sum to target </b></h3>\n",
    "<h3><b>Note: Starting from this task it is mandatory that all remaining problems are completed using functions.</b></h3>\n",
    "<p>\n",
    "Given an array of integers nums and an integer target, return the indices of the two numbers as an array such that they add up to target. </br>\n",
    "\n",
    "You may assume that each input would have exactly one solution, and you may not use the same element twice. </br>\n",
    "\n",
    "Example </br>\n",
    "Input: nums = [2,7,11,15], target = 9 </br>\n",
    "Output: [0,1] </br>\n",
    "Explanation: Because nums[0] + nums[1] == 9, we return [0, 1]\n",
    "\n",
    "</p>\n"
   ]
  },
  {
   "cell_type": "code",
   "execution_count": null,
   "metadata": {},
   "outputs": [],
   "source": [
    "def sum_to_target (input_array,target_value):\n",
    "    result=[]\n",
    "    for index1, number1 in enumerate(input_array):\n",
    "        for index2, number2 in enumerate(input_array):\n",
    "            if int(number1)+int(number2)==int(target_value):\n",
    "                result= [index1,index2]\n",
    "                return result\n",
    "\n",
    "nums = list(input(\"Input an array with comma-separated values: \").split(','))\n",
    "target = input(\"Input target: \")\n",
    "print(sum_to_target(nums,target))\n",
    "\n"
   ]
  },
  {
   "cell_type": "markdown",
   "metadata": {},
   "source": [
    "<h3><b>(T.12) Numbering ladder</b></h3>\n",
    "<p>\n",
    "Print the following pattern on the screen where n = 5: </br>\n",
    "\n",
    "[1]</br>\n",
    "[1, 2]</br>\n",
    "[1, 2, 3]</br>\n",
    "[1, 2, 3, 4]</br>\n",
    "[1, 2, 3, 4, 5]\n",
    "</p>\n"
   ]
  },
  {
   "cell_type": "code",
   "execution_count": null,
   "metadata": {},
   "outputs": [
    {
     "name": "stdout",
     "output_type": "stream",
     "text": [
      "[1]\n",
      "[1, 2]\n",
      "[1, 2, 3]\n",
      "[1, 2, 3, 4]\n",
      "[1, 2, 3, 4, 5]\n"
     ]
    }
   ],
   "source": [
    "def ladder_func(rows):\n",
    "    for row in range(1, rows + 1):\n",
    "        print(list(range(1,row + 1)))\n",
    "\n",
    "number_of_rows = int(input(\"Enter a number of rows for printing: \"))\n",
    "ladder_func(number_of_rows)"
   ]
  },
  {
   "cell_type": "markdown",
   "metadata": {},
   "source": [
    "<h3><b>(T.13) Numbering ladder Reversed</b></h3>\n",
    "<p>\n",
    "Print the following pattern on the screen where n = 5: </br>\n",
    "\n",
    "[1, 2, 3, 4, 5]</br>\n",
    "[1, 2, 3, 4]</br>\n",
    "[1, 2, 3]</br>\n",
    "[1, 2]</br>\n",
    "[1]\n",
    "\n",
    "</p>\n"
   ]
  },
  {
   "cell_type": "markdown",
   "metadata": {},
   "source": []
  },
  {
   "cell_type": "code",
   "execution_count": null,
   "metadata": {},
   "outputs": [
    {
     "name": "stdout",
     "output_type": "stream",
     "text": [
      "[1, 2, 3, 4, 5]\n",
      "[1, 2, 3, 4]\n",
      "[1, 2, 3]\n",
      "[1, 2]\n",
      "[1]\n"
     ]
    }
   ],
   "source": [
    "def ladder_reversed(rows):\n",
    "    for row in range(rows,0,- 1) :\n",
    "        print(list(range(1,row + 1)))\n",
    "\n",
    "number_of_rows = int(input(\"Enter a number of rows for printing: \"))\n",
    "ladder_reversed(number_of_rows)"
   ]
  },
  {
   "cell_type": "markdown",
   "metadata": {},
   "source": [
    "<h3><b>(T.14) Pyramid</b></h3>\n",
    "<p>\n",
    "Print the following pattern on the screen where n = 5: </br>\n",
    "\n",
    "\n",
    "        *\n",
    "       ***\n",
    "      *****\n",
    "     *******\n",
    "    *********\n",
    "</p>\n"
   ]
  },
  {
   "cell_type": "code",
   "execution_count": null,
   "metadata": {},
   "outputs": [],
   "source": [
    "rows = int(input(\"Enter the number of rows: \"))\n",
    "\n",
    "for row in range(rows):\n",
    "    print(' ' * (rows - row - 1), end='')\n",
    "    print('*' * (2 * row + 1))\n"
   ]
  },
  {
   "cell_type": "markdown",
   "metadata": {},
   "source": [
    "<h3><b>(T.15) Inverted pyramid</b></h3>\n",
    "<p>\n",
    "Print the following pattern on the screen where n = 5: </br>\n",
    "    \n",
    "    *********\n",
    "     *******\n",
    "      *****\n",
    "       ***\n",
    "        *\n",
    "\n",
    "</p>\n"
   ]
  },
  {
   "cell_type": "code",
   "execution_count": null,
   "metadata": {},
   "outputs": [],
   "source": [
    "rows = int(input(\"Enter the number of rows: \"))\n",
    "\n",
    "for row in range(rows):\n",
    "    print(' ' * row, end='')\n",
    "    print('*' * (2 * (rows - row) - 1))"
   ]
  },
  {
   "cell_type": "markdown",
   "metadata": {},
   "source": [
    "<h3><b>(T.16) ASCII ladder</b></h3>\n",
    "<p>\n",
    "Print the following pattern on the screen where n = 5: </br>\n",
    "\n",
    "A </br>\n",
    "B B </br>\n",
    "C C C </br>\n",
    "D D D D </br>\n",
    "E E E E E\n",
    "\n",
    "\n",
    "</p>\n"
   ]
  },
  {
   "cell_type": "code",
   "execution_count": null,
   "metadata": {},
   "outputs": [],
   "source": [
    "n = int(input(\"Enter the number of rows: \"))\n",
    "\n",
    "for row in range(n):\n",
    "    char = chr(65+row)\n",
    "    print((char + ' ')*(row+1))\n",
    "    "
   ]
  },
  {
   "cell_type": "markdown",
   "metadata": {},
   "source": [
    "<h3><b>(T.17) ASCII Matrix</b></h3>\n",
    "<p>\n",
    "Print the following pattern on the screen where n = 5: </br>\n",
    "\n",
    "<table>\n",
    "<tr><td>A</td><td>A</td><td>A</td><td>A</td><td>A</td></tr>\n",
    "<tr><td>B</td><td>B</td><td>B</td><td>B</td><td>B</td></tr>\n",
    "<tr><td>C</td><td>C</td><td>C</td><td>C</td><td>C</td></tr>\n",
    "<tr><td>D</td><td>D</td><td>D</td><td>D</td><td>D</td></tr>\n",
    "<tr><td>E</td><td>E</td><td>E</td><td>E</td><td>E</td></tr>\n",
    "</table>\n",
    "\n",
    "\n",
    "</p>\n"
   ]
  },
  {
   "cell_type": "code",
   "execution_count": null,
   "metadata": {},
   "outputs": [],
   "source": [
    "n = int(input(\"Enter the number of rows: \"))\n",
    "\n",
    "for row in range(n):\n",
    "    char = chr(65+row)\n",
    "    print((' | '+char )*n + ' |')\n",
    "    "
   ]
  },
  {
   "cell_type": "markdown",
   "metadata": {},
   "source": [
    "<h3><b>(T.18) Longest word</b></h3>\n",
    "<p>\n",
    "\n",
    "Find the longest word in a sentence: </br>\n",
    "\n",
    "Example: </br>\n",
    "This is the <b>longest</b> word. </br>\n",
    "\n",
    "answer: longest\n",
    "\n",
    "Note: The function you create should accept a sentence of type string\n",
    "</p>\n"
   ]
  },
  {
   "cell_type": "code",
   "execution_count": null,
   "metadata": {},
   "outputs": [],
   "source": [
    "def find_longes_word (sentence):\n",
    "    words = sentence.split()\n",
    "    longest_word =\"\"\n",
    "\n",
    "    for word in words:\n",
    "        if len(word) > len(longest_word):\n",
    "            longest_word=word\n",
    "\n",
    "    return longest_word\n",
    "\n",
    "sentence = input(\"Enter a sentence: \")\n",
    "longest = find_longes_word(sentence)\n",
    "print(f\"The longest word is: {longest}\")\n"
   ]
  },
  {
   "cell_type": "markdown",
   "metadata": {},
   "source": [
    "<h3><b>(T.19) Generate password</b></h3>\n",
    "<p>\n",
    "\n",
    "Create a function that generates easy, medium, hard passwords based on input. </br>\n",
    "Your function should accept 2 arguments which are num_of_characters and password_strength. Num of characters for the password shouldn't be less than 8. </br>\n",
    "\n",
    "easy password - when password consists only of numbers </br>\n",
    "medium password - when password consists only of numbers and letters </br>\n",
    "hard password - when password consists of numbers, letters, special characters \n",
    "\n",
    "</p>\n"
   ]
  },
  {
   "cell_type": "code",
   "execution_count": null,
   "metadata": {},
   "outputs": [
    {
     "name": "stdout",
     "output_type": "stream",
     "text": [
      "The generated password is : !P6sMRq+M@Jw\n"
     ]
    }
   ],
   "source": [
    "import random\n",
    "import string\n",
    "\n",
    "def generate_password(num_of_characters,password_strength):\n",
    "    password =\"\"\n",
    "    if password_strength == \"easy\":\n",
    "        password = ''.join(random.choices(string.digits,k=num_of_characters))\n",
    "    elif password_strength == \"medium\":\n",
    "        password = ''.join(random.choices(string.ascii_letters + string.digits, k=num_of_characters))\n",
    "    elif password_strength == \"hard\":\n",
    "        password = ''.join(random.choices(string.ascii_letters+string.digits+string.punctuation, k=num_of_characters))\n",
    "    return password\n",
    "\n",
    "\n",
    "\n",
    "num_of_characters_input = int(input(\"Enter number of characters (must be bigger than 8): \")) \n",
    "password_strength_input = input(\"Enter a password strength - easy, medium, or hard: \")\n",
    "\n",
    "if num_of_characters_input < 8:\n",
    "    print(\"Password must be longer than 8 characters.\")\n",
    "elif password_strength_input not in (\"easy\", \"medium\", \"hard\"):\n",
    "    print(\"Password strength must be one of the following: easy, medium, or hard.\")\n",
    "else:\n",
    "    password = generate_password(num_of_characters_input,password_strength_input)\n",
    "    print(f\"The generated password is : {password}\")    "
   ]
  },
  {
   "cell_type": "markdown",
   "metadata": {},
   "source": [
    "<h3><b>(T.20) Calculate person's age</b></h3>\n",
    "<p>\n",
    "\n",
    "Create a program that based on person's age displays if the person is of age or not. </br>\n",
    "Person is of age when they are more than 18 years old.\n",
    "\n",
    "</p>\n"
   ]
  },
  {
   "cell_type": "code",
   "execution_count": null,
   "metadata": {},
   "outputs": [],
   "source": [
    "def calc_person_age(age):\n",
    "    \n",
    "    if age > 18 :\n",
    "        is_adult = True\n",
    "    else:\n",
    "        is_adult = False\n",
    "    return is_adult\n",
    "\n",
    "age_input = int(input(\"Enther your age : \"))\n",
    "is_of_age = calc_person_age(age_input)\n",
    "\n",
    "if is_of_age:\n",
    "    print (\"You are adult.\")\n",
    "else:\n",
    "    print(\"You are under than 18.\")"
   ]
  },
  {
   "cell_type": "markdown",
   "metadata": {},
   "source": [
    "<h3><b>(T.21) Binary to decimal</b></h3>\n",
    "<p>\n",
    "\n",
    "Convert a binary number to a decimal number. </br>\n",
    "\n",
    "Example: </br>\n",
    "binary = 100 </br>\n",
    "decimal = 4 </br>\n",
    "\n",
    "Note: DO NOT USE BUILT-IN Python functions!!! Think about using the operators. Check the binary numerical system.\n",
    "\n",
    "</p>\n"
   ]
  },
  {
   "cell_type": "code",
   "execution_count": null,
   "metadata": {},
   "outputs": [],
   "source": [
    "def binary_to_decimal(binary_number):\n",
    "    decimal_number = 0\n",
    "    position = 0\n",
    "\n",
    "    while binary_number > 0:\n",
    "        last_digit = binary_number % 10  \n",
    "        decimal_number += last_digit * (2 ** position) \n",
    "        binary_number //= 10  \n",
    "        position += 1  \n",
    "\n",
    "    return decimal_number\n",
    "\n",
    "binary = int(input(\"Enter a binary number for conversion: \"))\n",
    "decimal = binary_to_decimal(binary)\n",
    "print(f\"The converted decimal number is: {decimal}\")\n"
   ]
  },
  {
   "cell_type": "markdown",
   "metadata": {},
   "source": [
    "<h3><b>(T.22) Decimal to binary</b></h3>\n",
    "<p>\n",
    "\n",
    "Convert a decimal number to a binary number. </br>\n",
    "\n",
    "Example: </br>\n",
    "binary = 4 </br>\n",
    "decimal = 100</br>\n",
    "\n",
    "Note: DO NOT USE BUILT-IN Python functions!!! Think about using the operators. Check the binary numerical system.\n",
    "\n",
    "</p>\n"
   ]
  },
  {
   "cell_type": "code",
   "execution_count": null,
   "metadata": {},
   "outputs": [],
   "source": [
    "def decimal_to_binary(decimal_number):\n",
    "    binary_number = \"\" #use a string to avoid reversing the sequence\n",
    "    \n",
    "    if decimal_number == 0:\n",
    "        return \"0\"\n",
    "\n",
    "    while decimal_number > 0:\n",
    "        remainder = decimal_number % 2  \n",
    "        binary_number = str(remainder) + binary_number  \n",
    "        decimal_number //= 2  \n",
    "\n",
    "    return binary_number\n",
    "\n",
    "\n",
    "decimal = int(input(\"Enter a decimal number for conversion: \"))\n",
    "binary = decimal_to_binary(decimal)\n",
    "print(f\"The converted binary number is: {binary}\")\n"
   ]
  },
  {
   "cell_type": "markdown",
   "metadata": {},
   "source": [
    "<h3><b>(T.23) Decimal to Hexadecimal</b></h3>\n",
    "<p>\n",
    "\n",
    "Convert a decimal number to a hexadecimal number. </br>\n",
    "\n",
    "Example: </br>\n",
    "binary = 123 </br>\n",
    "decimal = 7B</br>\n",
    "\n",
    "Note: DO NOT USE BUILT-IN Python functions!!! Think about using the operators. Check the hex numerical system.\n",
    "\n",
    "</p>\n"
   ]
  },
  {
   "cell_type": "code",
   "execution_count": 4,
   "metadata": {},
   "outputs": [
    {
     "name": "stdout",
     "output_type": "stream",
     "text": [
      "The converted hexadecimal number is: 7B\n"
     ]
    }
   ],
   "source": [
    "def decimal_to_hexadecimal(decimal_number):\n",
    "    if decimal_number == 0:\n",
    "        return \"0\"\n",
    "\n",
    "    hex_characters = \"0123456789ABCDEF\"  # Mapping of remainders to hexadecimal digits\n",
    "    hexadecimal_number = \"\"\n",
    "\n",
    "    while decimal_number > 0:\n",
    "        remainder = decimal_number % 16  \n",
    "        hexadecimal_number = hex_characters[remainder] + hexadecimal_number  \n",
    "        decimal_number //= 16  \n",
    "\n",
    "    return hexadecimal_number\n",
    "\n",
    "\n",
    "decimal = int(input(\"Enter a decimal number for conversion: \"))\n",
    "hexadecimal = decimal_to_hexadecimal(decimal)\n",
    "print(f\"The converted hexadecimal number is: {hexadecimal}\")\n"
   ]
  },
  {
   "cell_type": "markdown",
   "metadata": {},
   "source": [
    "<h3><b>(T.25) Binary serach</b></h3>\n",
    "<p>\n",
    "\n",
    "Create a function that implements the binary search algorithm</br>\n",
    "\n",
    "Definition of binary search: Binary search is a search algorithm used to find the position of a target value within a sorted array. It works by repeatedly dividing the search interval in half until the target value is found or the interval is empty.\n",
    "\n",
    "Example: </br>\n",
    "sorted_array = [1, 4, 7, 11, 15] </br>\n",
    "target = 11 </br>\n",
    "index = 3 (11 is on index 3 of the list)\n",
    "\n",
    "</p>\n"
   ]
  },
  {
   "cell_type": "code",
   "execution_count": 1,
   "metadata": {},
   "outputs": [
    {
     "name": "stdout",
     "output_type": "stream",
     "text": [
      "Target 11 is at index: 3\n"
     ]
    }
   ],
   "source": [
    "def binary_search(array, target):\n",
    "    sorted_array = sorted(array)\n",
    "    left_index = 0\n",
    "    right_index = len(sorted_array) - 1\n",
    "\n",
    "    while  left_index<= right_index:\n",
    "        # Find the middle index\n",
    "        middle_index = (left_index + right_index) // 2  \n",
    "\n",
    "        # Check if the target is at the middle\n",
    "        if sorted_array[middle_index] == target:\n",
    "            return middle_index\n",
    "\n",
    "        elif sorted_array[middle_index] > target:\n",
    "            right_index = middle_index - 1\n",
    "\n",
    "        else:\n",
    "            left_index = middle_index + 1\n",
    "\n",
    "    # Target is not found in the array\n",
    "    return -1\n",
    "\n",
    "array = [1, 4, 7, 11, 15]\n",
    "target = 11\n",
    "index = binary_search(array, target)\n",
    "print(f\"Target {target} is at index: {index}\")\n"
   ]
  },
  {
   "cell_type": "markdown",
   "metadata": {},
   "source": [
    "<h3><b>(T.26) Prime numbers</b></h3>\n",
    "<p>\n",
    "\n",
    "Create a function that checks if a number is a prime number</br>\n",
    "Definition: A prime number is a number that can only be divided by itself and 1 without remainders</br>\n",
    "\n",
    "Example: </br>\n",
    "num = 11 </br>\n",
    "is_prime returns True\n",
    "\n",
    "</p>\n"
   ]
  },
  {
   "cell_type": "code",
   "execution_count": 8,
   "metadata": {},
   "outputs": [
    {
     "name": "stdout",
     "output_type": "stream",
     "text": [
      "Is 13 a prime number? True\n"
     ]
    }
   ],
   "source": [
    "def is_prime(num):\n",
    "    # Numbers less than 2 are not prime\n",
    "    if num < 2:\n",
    "        return False\n",
    "\n",
    "    for i in range(2, num):\n",
    "        if num % i == 0: \n",
    "            return False\n",
    "\n",
    "    return True\n",
    "\n",
    "num = int(input(\"Enter a number for check: \"))\n",
    "result = is_prime(num)\n",
    "print(f\"Is {num} a prime number? {result}\")\n"
   ]
  },
  {
   "cell_type": "markdown",
   "metadata": {},
   "source": [
    "<h3><b>(T.27) Sort an array of 0s, 1s and 2s</b></h3>\n",
    "<p>\n",
    "\n",
    "Create a function that sorts 0s, 1s and 2s in order</br>\n",
    "\n",
    "Example: </br>\n",
    "Input: [0, 1, 2, 0, 1, 2] </br>\n",
    "Output: [0, 0, 1, 1, 2, 2] </br>\n",
    "Explanation: [0, 0, 1, 1, 2, 2] has all 0s first, then all 1s and all 2s in last.\n",
    "\n",
    "\n",
    "\n",
    "</p>\n"
   ]
  },
  {
   "cell_type": "code",
   "execution_count": 9,
   "metadata": {},
   "outputs": [
    {
     "name": "stdout",
     "output_type": "stream",
     "text": [
      "The sorted array: [0, 0, 1, 1, 2, 2]\n"
     ]
    }
   ],
   "source": [
    "def sort_an_array(array):\n",
    "    sorted_array = sorted(array)\n",
    "    return sorted_array\n",
    "\n",
    "unsorted_array = [0, 1, 2, 0, 1, 2]\n",
    "output = sort_an_array(unsorted_array)\n",
    "print(f'The sorted array: {output}')"
   ]
  },
  {
   "cell_type": "markdown",
   "metadata": {},
   "source": [
    "<h3><b>(T.28) Fibonacci sequence</b></h3>\n",
    "<p>\n",
    "\n",
    "Create a function that prints the first n numbers of the fibonacci sequence</br>\n",
    "\n",
    "Fibonacci sequence looks like the below for n = 10: </br>\n",
    "[0, 1, 1, 2, 3, 5, 8, 13, 21, 34]\n",
    "\n",
    "\n",
    "\n",
    "</p>\n"
   ]
  },
  {
   "cell_type": "code",
   "execution_count": 10,
   "metadata": {},
   "outputs": [
    {
     "name": "stdout",
     "output_type": "stream",
     "text": [
      "[0, 1, 1, 2, 3, 5, 8, 13, 21, 34]\n"
     ]
    }
   ],
   "source": [
    "def fibonacci_sequence(n):\n",
    "    if n <= 0:\n",
    "        print(\"Please provide a positive integer.\")\n",
    "        return\n",
    "\n",
    "    sequence = []\n",
    "\n",
    "    for i in range(n):\n",
    "        if i == 0:\n",
    "            sequence.append(0)\n",
    "        elif i == 1:\n",
    "            sequence.append(1)\n",
    "        else:\n",
    "            sequence.append(sequence[i - 1] + sequence[i - 2])\n",
    "\n",
    "    print(sequence)\n",
    "\n",
    "\n",
    "n = 10\n",
    "fibonacci_sequence(n)\n"
   ]
  },
  {
   "cell_type": "markdown",
   "metadata": {},
   "source": [
    "<h3><b>(T.29) Diagonal pattern</b></h3>\n",
    "<p>\n",
    "\n",
    "Create a function accepting n as parameter that generates a 2 dimensional array(list) with the following contents</br>\n",
    "\n",
    "When n = 10 </br>\n",
    "\n",
    "[9, 8, 7, 6, 5, 4, 3, 2, 1, 0] </br>\n",
    "[8, 7, 6, 5, 4, 3, 2, 1, 0, 0] </br>\n",
    "[7, 6, 5, 4, 3, 2, 1, 0, 0, 0] </br>\n",
    "[6, 5, 4, 3, 2, 1, 0, 0, 0, 0] </br>\n",
    "[5, 4, 3, 2, 1, 0, 0, 0, 0, 0] </br>\n",
    "[4, 3, 2, 1, 0, 0, 0, 0, 0, 0] </br>\n",
    "[3, 2, 1, 0, 0, 0, 0, 0, 0, 0] </br>\n",
    "[2, 1, 0, 0, 0, 0, 0, 0, 0, 0] </br>\n",
    "[1, 0, 0, 0, 0, 0, 0, 0, 0, 0] </br>\n",
    "[0, 0, 0, 0, 0, 0, 0, 0, 0, 0]\n",
    "\n",
    "\n",
    "\n",
    "</p>\n"
   ]
  },
  {
   "cell_type": "code",
   "execution_count": null,
   "metadata": {},
   "outputs": [],
   "source": [
    "#put your code here"
   ]
  },
  {
   "cell_type": "markdown",
   "metadata": {},
   "source": [
    "<h3><b>(T.30) Sum matrix diagonal</b></h3>\n",
    "<p>\n",
    "\n",
    "Generate a matrix with each number incremented by 1. Calculate the principal diagonal of the matrix</br>\n",
    "\n",
    "Example: </br>\n",
    "\n",
    "[0, 1, 2] </br>\n",
    "[3, 4, 5] </br>\n",
    "[6, 7, 8] </br>\n",
    "\n",
    "result = 0 + 4 + 8 = 12\n",
    "\n",
    "\n",
    "\n",
    "</p>\n"
   ]
  },
  {
   "cell_type": "code",
   "execution_count": null,
   "metadata": {},
   "outputs": [],
   "source": [
    "#put your code here"
   ]
  }
 ],
 "metadata": {
  "kernelspec": {
   "display_name": "Python 3",
   "language": "python",
   "name": "python3"
  },
  "language_info": {
   "codemirror_mode": {
    "name": "ipython",
    "version": 3
   },
   "file_extension": ".py",
   "mimetype": "text/x-python",
   "name": "python",
   "nbconvert_exporter": "python",
   "pygments_lexer": "ipython3",
   "version": "3.12.5"
  }
 },
 "nbformat": 4,
 "nbformat_minor": 2
}
